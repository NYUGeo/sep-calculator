{
 "cells": [
  {
   "cell_type": "code",
   "execution_count": 2,
   "metadata": {
    "collapsed": false
   },
   "outputs": [],
   "source": [
    "import numpy as np"
   ]
  },
  {
   "cell_type": "code",
   "execution_count": 88,
   "metadata": {
    "collapsed": false
   },
   "outputs": [
    {
     "name": "stdout",
     "output_type": "stream",
     "text": [
      "zw = 0.0001 \n",
      "zl = 0.000106417777248 \n",
      " z = 0.000109752553034 \n",
      "theta_deg = 10.3048464688 \n",
      "Ja = -11.5453623327 \n",
      "alpha_a_deg = -5.00342598511 \n",
      "Ka = -9113.46973172 \n",
      "sigma_a = -23.0052111113 \n",
      "sigma_AEH = -22.2216835408\n"
     ]
    }
   ],
   "source": [
    "kh = 0.2\n",
    "kv = 0.1\n",
    "omega_deg = 20\n",
    "beta_deg = 15\n",
    "phi_deg = 30\n",
    "c = 20\n",
    "gamma = 23\n",
    "H = 15\n",
    "zw = 0.0001\n",
    "\n",
    "### Convert degrees to radians\n",
    "omega = np.radians(omega_deg)\n",
    "beta = np.radians(beta_deg)\n",
    "phi = np.radians(phi_deg)\n",
    "\n",
    "### Gravitational & pseudo-static accelerations\n",
    "g = 9.80665\n",
    "alpha_h = kh * g\n",
    "alpha_v = kv * g\n",
    "\n",
    "### Heights\n",
    "zl = zw/np.cos(omega)\n",
    "z = zw * (np.cos(beta-omega))/(np.cos(beta)*np.cos(omega))\n",
    "\n",
    "### Equation 1\n",
    "g_theta = np.sqrt((g + alpha_v)**2 + alpha_h**2)\n",
    "\n",
    "### Equation 2\n",
    "theta = np.arctan(kh/(1 + kv))\n",
    "theta_deg = np.rad2deg(theta)\n",
    "\n",
    "### Equation 3\n",
    "gamma_theta = (gamma * (1 + kv))/(np.cos(theta))\n",
    "\n",
    "### Equation 13\n",
    "J_part1 = ((gamma*z*np.cos(beta)*np.cos(beta+theta)*(1+kv))/np.cos(theta)) \\\n",
    "            + c*np.cos(phi)*np.sin(phi)\n",
    "J_part2 = (gamma**2)*(z**2)*((np.cos(beta))**2)*((1+kv)**2) \\\n",
    "            * ((((np.cos(beta+theta))**2)-((np.cos(phi))**2))/((np.cos(theta))**2))\n",
    "J_part3 = (c**2)*((np.cos(phi))**2)\n",
    "J_part4 = (2*c*gamma*z*np.cos(phi)*np.sin(phi)*np.cos(beta)*np.cos(beta+theta)*(1+kv))/(np.cos(theta))\n",
    "\n",
    "Ja = (1/((np.cos(phi))**2))*(J_part1 - np.sqrt(J_part2+J_part3+J_part4))\n",
    "\n",
    "### Equation 18\n",
    "alpha_a_p1 = (((2*np.cos(theta)*np.cos(beta+theta))/(np.cos(beta)*(1+kv)))*(Ja/(gamma*z))-1)\n",
    "alpha_a_p2 = 2*(np.sin(beta-omega))*(np.cos(beta-omega))\n",
    "alpha_a_p3 = 2*(np.sin(theta+omega))*(np.cos(theta+omega))\n",
    "alpha_a = np.arctan(((alpha_a_p1*alpha_a_p2)+alpha_a_p3) \\\n",
    "            /(2*(alpha_a_p1*((np.cos(beta-omega))**2)+((np.sin(theta+omega))**2))))\n",
    "alpha_a_deg = np.rad2deg(alpha_a)\n",
    "\n",
    "### Equation 16\n",
    "Ka = (\n",
    "      (np.cos(beta)*(1+kv)*(np.sin(theta+omega)**2 - np.cos(beta-omega)**2)) \\\n",
    "       /(np.cos(alpha_a)*np.cos(beta+theta)*np.cos(theta))\n",
    "      ) + (\n",
    "      ((2*(Ja/(gamma*z))*np.cos(beta-omega)**2)/np.cos(alpha_a))\n",
    ")\n",
    "\n",
    "### Equation 15\n",
    "sigma_a = gamma * z * Ka\n",
    "\n",
    "### Equation 19\n",
    "sigma_AEH = sigma_a * np.cos(alpha_a + omega)\n",
    "\n",
    "print ('zw =',zw,'\\n'\n",
    "       'zl =',zl,'\\n'\n",
    "       ' z =',z,'\\n'\n",
    "       #'g_theta =',g_theta,'\\n'\n",
    "       'theta_deg =',theta_deg,'\\n'\n",
    "       #'theta =',theta,'\\n'\n",
    "       #'gamma_theta =',gamma_theta,'\\n'\n",
    "       #'J_part1 =',J_part1,'\\n'\n",
    "       #'J_part2 =',J_part2,'\\n'\n",
    "       #'J_part3 =',J_part3,'\\n'\n",
    "       #'J_part4 =',J_part4,'\\n'\n",
    "       'Ja =',Ja,'\\n'\n",
    "       #'alpha_a =',alpha_a,'\\n'\n",
    "       'alpha_a_deg =',alpha_a_deg,'\\n'\n",
    "       'Ka =',Ka,'\\n'\n",
    "       'sigma_a =',sigma_a,'\\n'\n",
    "       'sigma_AEH =',sigma_AEH)"
   ]
  },
  {
   "cell_type": "code",
   "execution_count": null,
   "metadata": {
    "collapsed": true
   },
   "outputs": [],
   "source": []
  },
  {
   "cell_type": "code",
   "execution_count": null,
   "metadata": {
    "collapsed": true
   },
   "outputs": [],
   "source": []
  },
  {
   "cell_type": "code",
   "execution_count": null,
   "metadata": {
    "collapsed": true
   },
   "outputs": [],
   "source": []
  },
  {
   "cell_type": "code",
   "execution_count": null,
   "metadata": {
    "collapsed": true
   },
   "outputs": [],
   "source": []
  },
  {
   "cell_type": "code",
   "execution_count": null,
   "metadata": {
    "collapsed": true
   },
   "outputs": [],
   "source": []
  },
  {
   "cell_type": "code",
   "execution_count": null,
   "metadata": {
    "collapsed": true
   },
   "outputs": [],
   "source": []
  },
  {
   "cell_type": "code",
   "execution_count": null,
   "metadata": {
    "collapsed": true
   },
   "outputs": [],
   "source": []
  },
  {
   "cell_type": "code",
   "execution_count": null,
   "metadata": {
    "collapsed": true
   },
   "outputs": [],
   "source": []
  },
  {
   "cell_type": "code",
   "execution_count": null,
   "metadata": {
    "collapsed": true
   },
   "outputs": [],
   "source": []
  }
 ],
 "metadata": {
  "anaconda-cloud": {},
  "kernelspec": {
   "display_name": "Python [conda root]",
   "language": "python",
   "name": "conda-root-py"
  },
  "language_info": {
   "codemirror_mode": {
    "name": "ipython",
    "version": 3
   },
   "file_extension": ".py",
   "mimetype": "text/x-python",
   "name": "python",
   "nbconvert_exporter": "python",
   "pygments_lexer": "ipython3",
   "version": "3.5.2"
  }
 },
 "nbformat": 4,
 "nbformat_minor": 1
}
