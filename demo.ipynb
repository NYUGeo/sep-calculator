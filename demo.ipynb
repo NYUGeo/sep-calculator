{
 "cells": [
  {
   "cell_type": "code",
   "execution_count": 2,
   "metadata": {
    "collapsed": false
   },
   "outputs": [],
   "source": [
    "import numpy as np"
   ]
  },
  {
   "cell_type": "code",
   "execution_count": 27,
   "metadata": {
    "collapsed": false
   },
   "outputs": [
    {
     "name": "stdout",
     "output_type": "stream",
     "text": [
      "3 3.1925 3.2926 43.03 0.01 0.17 12.64 11.84\n"
     ]
    }
   ],
   "source": [
    "kh = 0.2\n",
    "kv = 0.1\n",
    "omega_deg = 20\n",
    "beta_deg = 15\n",
    "phi_deg = 30\n",
    "alpha_deg = 5\n",
    "c = 20\n",
    "gamma = 23\n",
    "H = 15\n",
    "z_w = 3\n",
    "\n",
    "\n",
    "### Gravitational & pseudo-static accelerations\n",
    "g = 9.80665\n",
    "alpha_h = kh * g\n",
    "alpha_v = kv * g\n",
    "\n",
    "### Convert degrees to radians\n",
    "omega = np.radians(omega_deg)\n",
    "beta = np.radians(beta_deg)\n",
    "phi = np.radians(phi_deg)\n",
    "alpha = np.radians(alpha_deg)\n",
    "\n",
    "### Heights\n",
    "# z_w = H ???\n",
    "z_l = z_w/np.cos(omega)\n",
    "z = z_w * (np.cos(beta-omega))/(np.cos(beta)*np.cos(omega))\n",
    "\n",
    "### Equation 1\n",
    "g_theta = np.sqrt((g + alpha_v)**2 + alpha_h**2)\n",
    "\n",
    "### Equation 2\n",
    "# theta = np.arctan(alpha_h / (g + alpha_v))\n",
    "# or\n",
    "theta = np.deg2rad(np.arctan(kh/(1 + kv)))\n",
    "#theta = 35\n",
    "\n",
    "### Equation 3\n",
    "gamma_theta = (gamma * (1 + kv))/(np.cos(theta))\n",
    "\n",
    "### Equation 4\n",
    "sigma_theta = gamma * z * (1 + kv) * (np.cos(beta)/np.cos(theta))\n",
    "\n",
    "### Equation 13\n",
    "J_alpha = (1/(np.cos(phi)**2)) * (\n",
    "            (\n",
    "             ((gamma*z*np.cos(beta)*np.cos(beta+theta)*(1+kv))/np.cos(theta))\n",
    "             + c * np.cos(phi) * np.sin(phi)\n",
    "            )\n",
    "            - np.sqrt(\n",
    "             (gamma**2 * z**2 * np.cos(beta)**2 * (1+kv)**2 *\n",
    "                ((np.cos(beta+theta)**2 - np.cos(phi)**2)/np.cos(theta)**2))\n",
    "             + c**2 + np.cos(phi)**2\n",
    "             + ((2*c*gamma*z*np.cos(phi)*np.sin(phi)*np.cos(beta)*np.cos(beta+theta)*(1+kv))/np.cos(theta))\n",
    "            )\n",
    ")\n",
    "\n",
    "### Equation 16\n",
    "K_alpha =   (\n",
    "            (np.cos(beta)*(1+kv)*(np.sin(theta+omega)**2 - np.cos(beta-omega)**2))/(np.cos(alpha)*np.cos(beta+theta)*np.cos(theta))\n",
    "            ) + (\n",
    "            ((2*(J_alpha/(gamma*z))*np.cos(beta-omega)**2)/np.cos(alpha))\n",
    ")\n",
    "\n",
    "### Equation 15\n",
    "sigma_alpha = gamma * z * K_alpha\n",
    "\n",
    "### Equation 18\n",
    "alpha_alpha = np.arctan(\n",
    "            (\n",
    "             ((2*np.cos(theta)*np.cos(beta+theta)*J_alpha)/(np.cos(beta)*(1+kv)*gamma*z)-1)\n",
    "             * np.sin(beta-omega)**2 + np.sin(theta+omega)**2\n",
    "            )/2*(\n",
    "             ((2*np.cos(theta)*np.cos(beta+theta)*J_alpha)/(np.cos(beta)*(1+kv)*gamma*z)-1)\n",
    "             * np.cos(beta-omega)**2 + np.sin(theta+omega)**2\n",
    "            )\n",
    ")\n",
    "\n",
    "### Equation 19\n",
    "sigma_AEH = sigma_alpha * np.cos(alpha_alpha + omega)\n",
    "\n",
    "### Results\n",
    "#return z_w, z_l, z, J_alpha, alpha_alpha, K_alpha, sigma_alpha, sigma_AEH\n",
    "print (round(z_w,4),round(z_l,4),round(z,4),round(J_alpha,2),round(alpha_alpha,2),\\\n",
    "    round(K_alpha,2),round(sigma_alpha,2),round(sigma_AEH,2))"
   ]
  },
  {
   "cell_type": "code",
   "execution_count": 8,
   "metadata": {
    "collapsed": false
   },
   "outputs": [
    {
     "data": {
      "text/plain": [
       "0.3490658503988659"
      ]
     },
     "execution_count": 8,
     "metadata": {},
     "output_type": "execute_result"
    }
   ],
   "source": [
    "omega"
   ]
  },
  {
   "cell_type": "code",
   "execution_count": 9,
   "metadata": {
    "collapsed": false
   },
   "outputs": [
    {
     "data": {
      "text/plain": [
       "0.17985349979247828"
      ]
     },
     "execution_count": 9,
     "metadata": {},
     "output_type": "execute_result"
    }
   ],
   "source": [
    "theta"
   ]
  },
  {
   "cell_type": "code",
   "execution_count": 10,
   "metadata": {
    "collapsed": false
   },
   "outputs": [
    {
     "data": {
      "text/plain": [
       "0.26179938779914941"
      ]
     },
     "execution_count": 10,
     "metadata": {},
     "output_type": "execute_result"
    }
   ],
   "source": [
    "beta"
   ]
  },
  {
   "cell_type": "code",
   "execution_count": 12,
   "metadata": {
    "collapsed": false
   },
   "outputs": [
    {
     "data": {
      "text/plain": [
       "-0.76207781026556087"
      ]
     },
     "execution_count": 12,
     "metadata": {},
     "output_type": "execute_result"
    }
   ],
   "source": [
    "np.cos(beta+theta)"
   ]
  },
  {
   "cell_type": "code",
   "execution_count": 15,
   "metadata": {
    "collapsed": false
   },
   "outputs": [
    {
     "data": {
      "text/plain": [
       "0.98386991009990743"
      ]
     },
     "execution_count": 15,
     "metadata": {},
     "output_type": "execute_result"
    }
   ],
   "source": [
    "np.cos(theta)"
   ]
  },
  {
   "cell_type": "code",
   "execution_count": 25,
   "metadata": {
    "collapsed": false
   },
   "outputs": [
    {
     "data": {
      "text/plain": [
       "39.734039562862527"
      ]
     },
     "execution_count": 25,
     "metadata": {},
     "output_type": "execute_result"
    }
   ],
   "source": [
    "(1/(np.cos(phi)**2)) * (\n",
    "            (\n",
    "             ((gamma*z*np.cos(beta)*np.cos((beta+theta)*(1+kv)))/np.cos(theta))\n",
    "             + c * np.cos(phi) * np.sin(phi)\n",
    "            )\n",
    "            - np.sqrt(\n",
    "             (gamma**2 * z**2 * np.cos(beta)**2 * (1+kv)**2 *\n",
    "                ((np.cos(beta+theta)**2 - np.cos(phi)**2)/np.cos(theta)**2))\n",
    "             + c**2 + np.cos(phi)**2\n",
    "             + ((2*c*gamma*z*np.cos(phi)*np.sin(phi)*np.cos(beta)*np.cos((beta+theta)*(1+kv)))/np.cos(theta))\n",
    "            )\n",
    ")"
   ]
  },
  {
   "cell_type": "code",
   "execution_count": 23,
   "metadata": {
    "collapsed": false
   },
   "outputs": [
    {
     "data": {
      "text/plain": [
       "10.304846468766033"
      ]
     },
     "execution_count": 23,
     "metadata": {},
     "output_type": "execute_result"
    }
   ],
   "source": [
    "np.rad2deg(np.arctan(kh/(1 + kv)))"
   ]
  },
  {
   "cell_type": "code",
   "execution_count": null,
   "metadata": {
    "collapsed": true
   },
   "outputs": [],
   "source": []
  },
  {
   "cell_type": "code",
   "execution_count": null,
   "metadata": {
    "collapsed": true
   },
   "outputs": [],
   "source": []
  }
 ],
 "metadata": {
  "anaconda-cloud": {},
  "kernelspec": {
   "display_name": "Python [conda root]",
   "language": "python",
   "name": "conda-root-py"
  },
  "language_info": {
   "codemirror_mode": {
    "name": "ipython",
    "version": 3
   },
   "file_extension": ".py",
   "mimetype": "text/x-python",
   "name": "python",
   "nbconvert_exporter": "python",
   "pygments_lexer": "ipython3",
   "version": "3.5.2"
  }
 },
 "nbformat": 4,
 "nbformat_minor": 1
}
